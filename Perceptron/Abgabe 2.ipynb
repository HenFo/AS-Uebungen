{
 "cells": [
  {
   "cell_type": "markdown",
   "metadata": {},
   "source": [
    "# Adaptive Systeme - Hausaufgabe 2\n",
    "Henry Fock"
   ]
  },
  {
   "cell_type": "markdown",
   "metadata": {},
   "source": [
    "## Aufbau und Formeln für ein neuronales Netz\n",
    "Ein neuronales Netz ist aus mehreren Komponenten aufgebaut:\n",
    "- Vollvernetzte (lineare) Schicht. Dies entspricht dem Matrix - Vektorprodukt von Gewichtematrix und Eingabevektor. Die Zeilen der Gewichtematrix entsprechen den Gewichten der Eingangsneuronen (Spaltenvektor): $$f(x) = W^Tx$$\n",
    "- (Nicht lineare) Aktivierungs-/ Transferfunktion. Hier wird die Fermi-/ Sigmoidfunktion verwendet: $$\\sigma(x) = \\frac{1}{1 + \\exp(-x)}$$\n",
    "- Fehlerfunktion. Hier wird zum einen die Categorical Cross Entropy und der Mean Squered Error verwendet. Dabei ist $x$ das Ergebnis des Netzes und $y$ der Zielwert. $x$ und $y$ sind jeweils Spaltenvektoren.\n",
    "\\begin{align*}\n",
    "\\text{MSE}(x,y) &= \\frac{1}{|x|}\\sum_{i=0}^{|x|} \\left(x_i - y_i \\right)^2 \\\\\n",
    "\\text{CCE}(x,y) &= -\\sum_{i=0}^{|x|} y_i \\cdot \\log(x_i)\n",
    "\\end{align*}\n",
    "\n",
    "Ein Forward-pass, bis zum Fehler $E$ über eine Schicht entspricht:\n",
    "$$E\\left(\\sigma\\left(f\\left(x\\right)\\right)\\right)$$\n",
    "Über zwei Schichten:\n",
    "$$E\\left(\\sigma_2\\left(f_2\\left(\\sigma_1\\left(f_1\\left(x\\right)\\right)\\right)\\right)\\right)$$\n",
    "\n",
    "### Formeln für Backpropegation\n",
    "Außerdem werden die partiellen Ableitungen für das Gradientenabstiegsverfahren der einzelnen Funktionen benötigt. Die lineare Schicht benötigt eine mit Bezug auf die Gewichte, um diese zu ändern und eine mit Bezug auf den Eingang, um den Gradienten in die darüberliegenden Schichten weiterzuleiten.\n",
    "Die Gradienten lassen sich über die Kettenregel berechnen:\n",
    "\n",
    "\\begin{align*}\n",
    "\\frac{\\partial E}{\\partial w_{ij}^2} &= \\frac{\\partial f_2}{\\partial w_{ij}^2} \\cdot \\frac{\\partial \\sigma_2}{\\partial f_2} \\cdot \\frac{\\partial E}{\\partial \\sigma_2}  \\\\\n",
    "\\delta_2 &= \\frac{\\partial \\sigma_2}{\\partial f_2} \\cdot \\frac{\\partial E}{\\partial \\sigma_2} \\\\\n",
    "\\frac{\\partial E}{\\partial w_{ij}^1} &= \\frac{\\partial f_1}{\\partial w_{ij}^1}\\cdot \\frac{\\partial \\sigma_1}{\\partial f_1} \\cdot \\frac{\\partial f_2}{\\partial \\sigma_1} \\cdot \\delta_2 \n",
    "\\end{align*}\n",
    "\n",
    "Die Formeln für die Gradienten sind:\n",
    "\\begin{align*}\n",
    "\\frac{\\partial f}{\\partial w_{ij}} &= x_i \\\\\n",
    "\\frac{\\partial f_2}{\\partial \\sigma_1} &= W \\\\\n",
    "\\frac{\\partial \\sigma}{\\partial f} &= \\sigma(f)\\cdot (1 - \\sigma(f)) \\\\\n",
    "\\frac{\\partial \\text{MSE}}{\\partial \\sigma_i} &= \\frac{1}{|\\sigma|}\\cdot 2(\\sigma_i - y_i) \\\\\n",
    "\\frac{\\partial \\text{CCE}}{\\partial \\sigma_i} &= -\\frac{y}{\\sigma_i}\n",
    "\\end{align*}\n"
   ]
  },
  {
   "cell_type": "markdown",
   "metadata": {},
   "source": [
    "## Implementierung: Definieren von abstrakten Oberklassen für Schichten Fehler und Modelle"
   ]
  },
  {
   "cell_type": "code",
   "execution_count": 1,
   "metadata": {},
   "outputs": [],
   "source": [
    "from typing import *\n",
    "from abc import ABC, abstractmethod\n",
    "import numpy as np\n",
    "\n",
    "\n",
    "class Layer(ABC):\n",
    "    @abstractmethod\n",
    "    def forward(self, x: np.ndarray, train: bool = False) -> np.ndarray:\n",
    "        raise NotImplementedError()\n",
    "\n",
    "    @abstractmethod\n",
    "    def backwards(self, prev_grads: np.ndarray) -> np.ndarray:\n",
    "        raise NotImplementedError()\n",
    "\n",
    "    @abstractmethod\n",
    "    def train(self, lr: float = 0.01) -> None:\n",
    "        raise NotImplementedError()\n",
    "\n",
    "\n",
    "class Loss(ABC):\n",
    "    @abstractmethod\n",
    "    def loss(self, x: np.ndarray, y: np.ndarray, train: bool = False) -> float:\n",
    "        raise NotImplementedError()\n",
    "\n",
    "    @abstractmethod\n",
    "    def backwards(self) -> np.ndarray:\n",
    "        raise NotImplementedError()\n",
    "\n",
    "\n",
    "class Model(ABC):\n",
    "    @abstractmethod\n",
    "    def predict(self, x: np.ndarray) -> np.ndarray:\n",
    "        raise NotImplementedError()\n",
    "\n",
    "    @abstractmethod\n",
    "    def train(\n",
    "        self,\n",
    "        x: np.ndarray,\n",
    "        y: np.ndarray,\n",
    "        epochs: int = 10,\n",
    "        lr: float = 0.01,\n",
    "        batch_size: int = 1,\n",
    "        loss_threshold: float = 1e-2,\n",
    "        shuffle: bool = True,\n",
    "    ) -> None:\n",
    "        raise NotImplementedError()\n"
   ]
  },
  {
   "cell_type": "markdown",
   "metadata": {},
   "source": [
    "## Implementierung: Implementieren der Layer"
   ]
  },
  {
   "cell_type": "code",
   "execution_count": 2,
   "metadata": {},
   "outputs": [],
   "source": [
    "class Linear(Layer):\n",
    "    def __init__(self, num_inputs: int, num_outputs: int, weight_init:str = \"uniform\") -> None:\n",
    "        assert weight_init in (\"uniform\", \"normal\")\n",
    "\n",
    "        self.num_inputs = num_inputs\n",
    "        self.num_inputs = num_outputs\n",
    "\n",
    "        if weight_init == \"uniform\":\n",
    "            self.weights = np.random.rand(num_inputs + 1, num_outputs)\n",
    "        if weight_init == \"normal\":\n",
    "            self.weights = np.random.randn(num_inputs + 1, num_outputs)\n",
    "        \n",
    "        # self.weights *= np.sqrt(1.0 / num_inputs)\n",
    "\n",
    "        self.weight_gradients: np.ndarray = None\n",
    "\n",
    "        self.train_input: np.ndarray = None\n",
    "        self.train_output: np.ndarray = None\n",
    "\n",
    "    def forward(self, x: np.ndarray, train: bool = False) -> np.ndarray:\n",
    "        x_bias = np.vstack([np.ones((1, 1)), x])\n",
    "        out = np.dot(self.weights.T, x_bias)\n",
    "        if train:\n",
    "            self.train_input = x_bias\n",
    "            self.train_output = out\n",
    "        return out\n",
    "\n",
    "    def backwards(self, prev_grads: np.ndarray) -> np.ndarray:\n",
    "        self.weight_gradients = np.dot(prev_grads, self.train_input.T).T\n",
    "        return np.dot(self.weights[1:], prev_grads)\n",
    "\n",
    "    def train(self, lr: float = 0.01) -> None:\n",
    "        self.weights -= lr * self.weight_gradients\n",
    "        self.weight_gradients = None\n",
    "        self.train_input = None\n",
    "        self.train_output = None\n",
    "\n",
    "\n",
    "class Sigmoid(Layer):\n",
    "    def __init__(self) -> None:\n",
    "        self.train_input: np.ndarray = None\n",
    "        self.train_output: np.ndarray = None\n",
    "\n",
    "    def forward(self, x: np.ndarray, train: bool = False) -> np.ndarray:\n",
    "        out = 1 / (1 + np.exp(-x))\n",
    "        if train:\n",
    "            self.train_input = x\n",
    "            self.train_output = out\n",
    "        return out\n",
    "\n",
    "    def backwards(self, prev_grads: np.ndarray) -> np.ndarray:\n",
    "        grads = self.train_output * (1 - self.train_output)\n",
    "        return prev_grads * grads\n",
    "\n",
    "    def train(self, *_) -> None:\n",
    "        self.train_input = None\n",
    "        self.train_output = None\n",
    "\n",
    "\n",
    "\n",
    "class LeakyReLu(Layer):\n",
    "    def __init__(self, leak:float = 0.2) -> None:\n",
    "        self.train_input: np.ndarray = None\n",
    "        self.train_output: np.ndarray = None\n",
    "        self.leak:float = leak\n",
    "    \n",
    "    def forward(self, x: np.ndarray, train: bool = False) -> np.ndarray:\n",
    "        out = x.copy()\n",
    "        out[out < 0] *= self.leak\n",
    "        if train:\n",
    "            self.train_input = x\n",
    "            self.train_output = out\n",
    "        return out\n",
    "\n",
    "    def backwards(self, prev_grads: np.ndarray) -> np.ndarray:\n",
    "        grads = np.ones_like(self.train_input)\n",
    "        grads[self.train_output == 0] = self.leak\n",
    "        return prev_grads * grads\n",
    "\n",
    "    def train(self, *_) -> None:\n",
    "        self.train_input = None\n",
    "        self.train_output = None\n",
    "\n",
    "\n",
    "class Tanh(Layer):\n",
    "    def __init__(self) -> None:\n",
    "        self.train_input: np.ndarray = None\n",
    "        self.train_output: np.ndarray = None\n",
    "    \n",
    "    def forward(self, x: np.ndarray, train: bool = False) -> np.ndarray:\n",
    "        out = np.tanh(x)\n",
    "        if train:\n",
    "            self.train_input = x\n",
    "            self.train_output = out\n",
    "        return out\n",
    "\n",
    "    def backwards(self, prev_grads: np.ndarray) -> np.ndarray:\n",
    "        grads = 1 - np.power(self.train_output, 2)\n",
    "        return prev_grads * grads\n",
    "\n",
    "    def train(self, *_) -> None:\n",
    "        self.train_input = None\n",
    "        self.train_output = None"
   ]
  },
  {
   "cell_type": "markdown",
   "metadata": {},
   "source": [
    "## Implementierung: Implementieren der Fehlerfunktionen"
   ]
  },
  {
   "cell_type": "code",
   "execution_count": 84,
   "metadata": {},
   "outputs": [],
   "source": [
    "class MeanSquereError(Loss):\n",
    "    def __init__(self) -> None:\n",
    "        self.train_x: np.ndarray = 0\n",
    "        self.train_y: np.ndarray = 0\n",
    "\n",
    "    def loss(self, x: np.ndarray, y: np.ndarray, train: bool = False) -> float:\n",
    "        if train:\n",
    "            self.train_x = x\n",
    "            self.train_y = y\n",
    "        return np.mean(np.power(x - y, 2))\n",
    "\n",
    "    def backwards(self) -> np.ndarray:\n",
    "        out = 2/self.train_y.size*(self.train_x - self.train_y)\n",
    "        return out\n",
    "\n",
    "class CategoricalCrossEntropy(Loss):\n",
    "    def __init__(self) -> None:\n",
    "        self.train_x: np.ndarray = 0\n",
    "        self.train_y: np.ndarray = 0\n",
    "\n",
    "    def loss(self, x: np.ndarray, y: np.ndarray, train: bool = False) -> float:\n",
    "        if train:\n",
    "            self.train_x = x\n",
    "            self.train_y = y\n",
    "        return -np.sum(y * np.log(x))\n",
    "\n",
    "    def backwards(self) -> np.ndarray:\n",
    "        out = -(self.train_y / self.train_x)\n",
    "        return out\n",
    "\n",
    "\n",
    "class BinaryCrossEntropy(Loss):\n",
    "    def __init__(self) -> None:\n",
    "        self.train_x: np.ndarray = 0\n",
    "        self.train_y: np.ndarray = 0\n",
    "\n",
    "    def loss(self, x: np.ndarray, y: np.ndarray, train: bool = False) -> float:\n",
    "        if train:\n",
    "            self.train_x = x\n",
    "            self.train_y = y\n",
    "        return (1/y.size) * np.sum(-(y * np.log(x) + (1-y) * np.log(1-x)))\n",
    "\n",
    "    def backwards(self) -> np.ndarray:\n",
    "        out = (1/self.train_y.size) * ((self.train_x - self.train_y) / ((1 - self.train_x) * self.train_x))\n",
    "        return out\n",
    "\n"
   ]
  },
  {
   "cell_type": "markdown",
   "metadata": {},
   "source": [
    "## Implementierung: Trainingsroutine im MultilayerPerceptron"
   ]
  },
  {
   "cell_type": "markdown",
   "metadata": {},
   "source": [
    "### Helferklasse fürs Datenhandling"
   ]
  },
  {
   "cell_type": "code",
   "execution_count": 5,
   "metadata": {},
   "outputs": [],
   "source": [
    "class Dataset:\n",
    "    @classmethod\n",
    "    def shuffle(self, x: np.ndarray, y: np.ndarray) -> Tuple[np.ndarray]:\n",
    "        sampling = np.random.permutation(x.shape[0])\n",
    "        return x[sampling], y[sampling]"
   ]
  },
  {
   "cell_type": "code",
   "execution_count": 112,
   "metadata": {},
   "outputs": [],
   "source": [
    "class MultiLayerPerceptron:\n",
    "    def __init__(self, layers: List[Layer], loss: Loss) -> None:\n",
    "        self.layers = layers\n",
    "        self.loss_function = loss\n",
    "\n",
    "    def predict(self, x: np.ndarray) -> np.ndarray:\n",
    "        results = np.array([self._forward(sample, train=False) for sample in x])\n",
    "        return results\n",
    "\n",
    "    def _forward(self, x: np.ndarray, train: bool) -> np.ndarray:\n",
    "        intermed_result: np.ndarray = x\n",
    "        for layer in self.layers:\n",
    "            intermed_result = layer.forward(intermed_result, train=train)\n",
    "        return intermed_result\n",
    "\n",
    "    def _backpropegate(self) -> None:\n",
    "        gradient = self.loss_function.backwards()\n",
    "        for layer in self.layers[::-1]:\n",
    "            gradient = layer.backwards(gradient)\n",
    "\n",
    "    def _update_weights(self, lr: float = 0.01) -> None:\n",
    "        for layer in self.layers[::-1]:\n",
    "            layer.train(lr)\n",
    "\n",
    "    def train(\n",
    "        self,\n",
    "        x: np.ndarray,\n",
    "        y: np.ndarray,\n",
    "        epochs: int = 10,\n",
    "        lr: float = 0.01,\n",
    "        min_delta: float = 1e-5,\n",
    "        loss_threshold:float = 1e-2,\n",
    "        shuffle: bool = True\n",
    "    ):\n",
    "        epoch: int = 1\n",
    "        last_loss = 1e5\n",
    "        while epoch <= epochs:\n",
    "            xs, ys = x, y\n",
    "            if shuffle:\n",
    "                xs, ys = Dataset.shuffle(x, y)\n",
    "            for sample_x, sample_y in zip(xs, ys):\n",
    "                result = self._forward(sample_x, train=True)\n",
    "                self.loss_function.loss(result, sample_y, train=True)\n",
    "\n",
    "                self._backpropegate()\n",
    "                self._update_weights(lr)\n",
    "\n",
    "\n",
    "            intermed_preds = self.predict(x)\n",
    "            intermed_loss = self.loss_function.loss(intermed_preds, y)\n",
    "\n",
    "\n",
    "            if loss_threshold > intermed_loss:\n",
    "                print(f\"Fehlergrenze unterschritten nach {epoch} Epochen!\")\n",
    "                return\n",
    "\n",
    "            if min_delta > 0:\n",
    "                loss_delta = abs(last_loss - intermed_loss)\n",
    "                last_loss = intermed_loss\n",
    "\n",
    "                if loss_delta < min_delta:\n",
    "                    print(f\"Konvergenz nach {epoch} Epochen!\")\n",
    "                    return\n",
    "\n",
    "            epoch += 1\n",
    "\n",
    "        print(f\"Abbruch nach {epoch-1} Epochen!\")"
   ]
  },
  {
   "cell_type": "markdown",
   "metadata": {},
   "source": [
    "## Erstellen von Helferklassen zur Datenrepräsentation\n",
    "Zuordnung der Segmente mit ihren Indizes:\n",
    "\n",
    "<img src=\"Images/d8.png\" alt=\"drawing\" width=\"200\"/>"
   ]
  },
  {
   "cell_type": "code",
   "execution_count": 62,
   "metadata": {},
   "outputs": [],
   "source": [
    "import matplotlib.pyplot as plt\n",
    "\n",
    "\n",
    "class SevenSegment:\n",
    "\tdef __init__(self, encoding: np.ndarray) -> None:\n",
    "\t\tassert encoding.size == 7\n",
    "\t\tself.encoding = encoding\n",
    "\n",
    "\tdef display(self) -> None:\n",
    "\t\tsegments = self.getEncoding()\n",
    "\t\tassert segments.size == 7\n",
    "\n",
    "\t\timage = np.zeros((5, 3), dtype=np.uint8)\n",
    "\t\tsegment_to_image = {\n",
    "\t\t\t0: {\"x\":[0, 0, 0], \"y\":[0, 1, 2]},\n",
    "\t\t\t1: {\"x\":[0, 1, 2], \"y\":[0, 0, 0]},\n",
    "\t\t\t2: {\"x\":[0, 1, 2], \"y\":[2, 2, 2]},\n",
    "\t\t\t3: {\"x\":[2, 2, 2], \"y\":[0, 1, 2]},\n",
    "\t\t\t4: {\"x\":[2, 3, 4], \"y\":[0, 0, 0]},\n",
    "\t\t\t5: {\"x\":[2, 3, 4], \"y\":[2, 2, 2]},\n",
    "\t\t\t6: {\"x\":[4, 4, 4], \"y\":[0, 1, 2]},\n",
    "\t\t}\n",
    "\n",
    "\t\tfor i, segment in enumerate(segments):\n",
    "\t\t\tif segment == 1:\n",
    "\t\t\t\ts2i = segment_to_image[i]\n",
    "\t\t\t\timage[s2i[\"x\"], s2i[\"y\"]] = 1\n",
    "\n",
    "\t\tplt.imshow(image)\n",
    "\t\tplt.show()\n",
    "\n",
    "\tdef getEncoding(self) -> np.ndarray:\n",
    "\t\treturn self.encoding\n",
    "\n",
    "\n",
    "def seven_segment_factory_method(char: str) -> SevenSegment:\n",
    "\tassert char in (\"0\", \"1\", \"2\", \"3\", \"4\", \"5\", \"6\", \"7\", \"8\", \"9\", \"A\", \"b\", \"C\", \"d\", \"E\", \"F\")\n",
    "\tif char == \"0\":\n",
    "\t\treturn SevenSegment(np.array([1, 1, 1, 0, 1, 1, 1]))\n",
    "\tif char == \"1\":\n",
    "\t\treturn SevenSegment(np.array([0, 1, 0, 0, 1, 0, 0]))\n",
    "\tif char == \"2\":\n",
    "\t\treturn SevenSegment(np.array([1, 0, 1, 1, 1, 0, 1]))\n",
    "\tif char == \"3\":\n",
    "\t\treturn SevenSegment(np.array([1, 0, 1, 1, 0, 1, 1]))\n",
    "\tif char == \"4\":\n",
    "\t\treturn SevenSegment(np.array([0, 1, 1, 1, 0, 1, 0]))\n",
    "\tif char == \"5\":\n",
    "\t\treturn SevenSegment(np.array([1, 1, 0, 1, 0, 1, 1]))\n",
    "\tif char == \"6\":\n",
    "\t\treturn SevenSegment(np.array([0, 1, 0, 1, 1, 1, 1]))\n",
    "\tif char == \"7\":\n",
    "\t\treturn SevenSegment(np.array([1, 0, 1, 0, 0, 1, 0]))\n",
    "\tif char == \"8\":\n",
    "\t\treturn SevenSegment(np.array([1, 1, 1, 1, 1, 1, 1]))\n",
    "\tif char == \"9\":\n",
    "\t\treturn SevenSegment(np.array([1, 1, 1, 1, 0, 1, 0]))\n",
    "\tif char == \"A\":\n",
    "\t\treturn SevenSegment(np.array([1, 1, 1, 1, 1, 1, 0]))\n",
    "\tif char == \"b\":\n",
    "\t\treturn SevenSegment(np.array([0, 1, 0, 1, 1, 1, 1]))\n",
    "\tif char == \"C\":\n",
    "\t\treturn SevenSegment(np.array([1, 1, 0, 0, 1, 0, 1]))\n",
    "\tif char == \"d\":\n",
    "\t\treturn SevenSegment(np.array([0, 0, 1, 1, 1, 1, 1]))\n",
    "\tif char == \"E\":\n",
    "\t\treturn SevenSegment(np.array([1, 1, 0, 1, 1, 0, 1]))\n",
    "\tif char == \"F\":\n",
    "\t\treturn SevenSegment(np.array([1, 1, 0, 1, 1, 0, 0]))\n"
   ]
  },
  {
   "cell_type": "code",
   "execution_count": 64,
   "metadata": {},
   "outputs": [
    {
     "data": {
      "image/png": "[encoded data removed]",
      "text/plain": [
       "<Figure size 640x480 with 1 Axes>"
      ]
     },
     "metadata": {},
     "output_type": "display_data"
    }
   ],
   "source": [
    "seven_segment_factory_method(\"A\").display()"
   ]
  },
  {
   "cell_type": "markdown",
   "metadata": {},
   "source": [
    "# Aufgabe 1\n",
    "Untersuchen Sie wie die Lernf¨ahigkeit und -geschwindigkeit des Netz von\n",
    "\n",
    "- der Anzahl der zu erlernenden Muster d.h. 0 – 9 oder 0 – 15...\n",
    "- der Anzahl der Eingabeneuronen, also entweder 4 oder 10/16...\n",
    "- der Anzahl der verborgenen Neuronen Schichten...\n",
    "- der Anzahl der Neuronen in der jeweiligen Schicht...\n",
    "\n",
    "...abhängt"
   ]
  },
  {
   "cell_type": "markdown",
   "metadata": {},
   "source": [
    "## Erzeugen des Trainingsdatensatzes"
   ]
  },
  {
   "cell_type": "code",
   "execution_count": 65,
   "metadata": {},
   "outputs": [],
   "source": [
    "chars = [\"0\", \"1\", \"2\", \"3\", \"4\", \"5\", \"6\", \"7\", \"8\", \"9\", \"A\", \"b\", \"C\", \"d\", \"E\", \"F\"]\n",
    "seven_segments = [seven_segment_factory_method(x) for x in chars]\n",
    "x = np.expand_dims(np.identity(len(chars)), -1)\n",
    "y = np.expand_dims(np.array([x.getEncoding() for x in seven_segments]), -1)"
   ]
  },
  {
   "cell_type": "markdown",
   "metadata": {},
   "source": [
    "## Erzeugen des Netzwerkes und anstoßen des Trainings"
   ]
  },
  {
   "cell_type": "code",
   "execution_count": 113,
   "metadata": {},
   "outputs": [
    {
     "name": "stdout",
     "output_type": "stream",
     "text": [
      "Fehlergrenze unterschritten nach 348 Epochen!\n",
      "Fehler:  0.009974545480869115\n"
     ]
    }
   ],
   "source": [
    "np.random.seed(0)\n",
    "\n",
    "# network: List[Layer] = [Linear(len(x), 7, \"normal\"), Sigmoid()]\n",
    "network: List[Layer] = [Linear(len(x), len(x), \"normal\"), Sigmoid(), Linear(len(x), 7), Sigmoid()]\n",
    "loss = MeanSquereError()\n",
    "\n",
    "mlp = MultiLayerPerceptron(network, loss)\n",
    "mlp.train(x, y, epochs=5000, lr=0.5, min_delta=1e-5, loss_threshold=1e-2)\n",
    "pred = mlp.predict(x)\n",
    "print(\"Fehler: \", loss.loss(pred, y))"
   ]
  },
  {
   "cell_type": "code",
   "execution_count": 114,
   "metadata": {},
   "outputs": [
    {
     "name": "stdout",
     "output_type": "stream",
     "text": [
      "Netzwerkkonfiguration:  0 hidden\n",
      "Fehlergrenze unterschritten nach 444 Epochen!\n",
      "Fehler:  0.009996968770542083\n",
      "------------\n",
      "\n",
      "Netzwerkkonfiguration:  1 hidden mit 16 Neuronen\n",
      "Fehlergrenze unterschritten nach 430 Epochen!\n",
      "Fehler:  0.009970121956560036\n",
      "------------\n",
      "\n",
      "Netzwerkkonfiguration:  1 hidden mit 7 Neuronen\n",
      "Fehlergrenze unterschritten nach 487 Epochen!\n",
      "Fehler:  0.009992691714824361\n",
      "------------\n",
      "\n",
      "Netzwerkkonfiguration:  1 hidden mit 4 Neuronen\n",
      "Abbruch nach 1000 Epochen!\n",
      "Fehler:  0.029940036306122183\n",
      "------------\n",
      "\n",
      "Netzwerkkonfiguration:  1 hidden mit 2 Neuronen\n",
      "Abbruch nach 1000 Epochen!\n",
      "Fehler:  0.08787919513370332\n",
      "------------\n",
      "\n",
      "Netzwerkkonfiguration:  2 hidden mit 16/16 Neuronen\n",
      "Konvergenz nach 2 Epochen!\n",
      "Fehler:  0.3212734396316145\n",
      "------------\n",
      "\n",
      "Netzwerkkonfiguration:  2 hidden mit 7/7 Neuronen\n",
      "Konvergenz nach 39 Epochen!\n",
      "Fehler:  0.21447507258092063\n",
      "------------\n",
      "\n",
      "Netzwerkkonfiguration:  2 hidden mit 4/4 Neuronen\n",
      "Konvergenz nach 23 Epochen!\n",
      "Fehler:  0.21437283639019172\n",
      "------------\n",
      "\n",
      "Netzwerkkonfiguration:  2 hidden mit 2/2 Neuronen\n",
      "Konvergenz nach 16 Epochen!\n",
      "Fehler:  0.21425308291457107\n",
      "------------\n",
      "\n"
     ]
    }
   ],
   "source": [
    "networks: dict[list[Layer]] = {\n",
    "\t\"0 hidden\":\t\t\t\t\t\t\t[Linear(len(x), 7), Sigmoid()],\n",
    "\tf\"1 hidden mit {len(x)} Neuronen\":\t[Linear(len(x), len(x)), Sigmoid(), Linear(len(x), 7), Sigmoid()],\n",
    "\t\"1 hidden mit 7 Neuronen\": \t\t\t[Linear(len(x), 7), Sigmoid(), Linear(7, 7), Sigmoid()],\n",
    "\t\"1 hidden mit 4 Neuronen\": \t\t\t[Linear(len(x), 4), Sigmoid(), Linear(4, 7), Sigmoid()],\n",
    "\t\"1 hidden mit 2 Neuronen\": \t\t\t[Linear(len(x), 2), Sigmoid(), Linear(2, 7), Sigmoid()],\n",
    "\tf\"2 hidden mit {len(x)}/{len(x)} Neuronen\": [Linear(len(x), len(x)), Sigmoid(), Linear(len(x), len(x)), Sigmoid(), Linear(len(x), 7), Sigmoid()],\n",
    "\t\"2 hidden mit 7/7 Neuronen\": [Linear(len(x), 7), Sigmoid(), Linear(7, 7), Sigmoid(), Linear(7, 7), Sigmoid()],\n",
    "\t\"2 hidden mit 4/4 Neuronen\": [Linear(len(x), 4), Sigmoid(), Linear(4, 4), Sigmoid(), Linear(4, 7), Sigmoid()],\n",
    "\t\"2 hidden mit 2/2 Neuronen\": [Linear(len(x), 2), Sigmoid(), Linear(2, 2), Sigmoid(), Linear(2, 7), Sigmoid()],\n",
    "}\n",
    "\n",
    "for description, network in networks.items():\n",
    "\tprint(\"Netzwerkkonfiguration: \", description)\n",
    "\n",
    "\tnp.random.seed(0)\n",
    "\n",
    "\tloss = MeanSquereError()\n",
    "\tmlp = MultiLayerPerceptron(network, loss)\n",
    "\tmlp.train(x, y, epochs=1000, lr=0.5, min_delta=1e-5, loss_threshold=1e-2)\n",
    "\tpred = mlp.predict(x)\n",
    "\tprint(\"Fehler: \", loss.loss(pred, y))\n",
    "\tprint(\"------------\")\n",
    "\tprint(\"\")"
   ]
  },
  {
   "cell_type": "markdown",
   "metadata": {},
   "source": [
    "## Anzeigen der Ergebnisse"
   ]
  },
  {
   "cell_type": "code",
   "execution_count": 91,
   "metadata": {},
   "outputs": [
    {
     "name": "stdout",
     "output_type": "stream",
     "text": [
      "Fehler nach Rundung: nan\n"
     ]
    },
    {
     "name": "stderr",
     "output_type": "stream",
     "text": [
      "C:\\Users\\hfock\\AppData\\Local\\Temp\\ipykernel_19016\\2757090738.py:41: RuntimeWarning: divide by zero encountered in log\n",
      "  return (1/y.size) * np.sum(-(y * np.log(x) + (1-y) * np.log(1-x)))\n",
      "C:\\Users\\hfock\\AppData\\Local\\Temp\\ipykernel_19016\\2757090738.py:41: RuntimeWarning: invalid value encountered in multiply\n",
      "  return (1/y.size) * np.sum(-(y * np.log(x) + (1-y) * np.log(1-x)))\n"
     ]
    }
   ],
   "source": [
    "pred = np.round(pred,0)\n",
    "loss_after_rounding = loss.loss(y, pred)\n",
    "print(f\"Fehler nach Rundung: {loss_after_rounding}\")"
   ]
  },
  {
   "cell_type": "code",
   "execution_count": 92,
   "metadata": {},
   "outputs": [
    {
     "data": {
      "image/png": "[encoded data removed]",
      "text/plain": [
       "<Figure size 640x480 with 1 Axes>"
      ]
     },
     "metadata": {},
     "output_type": "display_data"
    },
    {
     "data": {
      "image/png": "[encoded data removed]",
      "text/plain": [
       "<Figure size 640x480 with 1 Axes>"
      ]
     },
     "metadata": {},
     "output_type": "display_data"
    },
    {
     "data": {
      "image/png": "[encoded data removed]",
      "text/plain": [
       "<Figure size 640x480 with 1 Axes>"
      ]
     },
     "metadata": {},
     "output_type": "display_data"
    },
    {
     "data": {
      "image/png": "[encoded data removed]",
      "text/plain": [
       "<Figure size 640x480 with 1 Axes>"
      ]
     },
     "metadata": {},
     "output_type": "display_data"
    },
    {
     "data": {
      "image/png": "[encoded data removed]",
      "text/plain": [
       "<Figure size 640x480 with 1 Axes>"
      ]
     },
     "metadata": {},
     "output_type": "display_data"
    },
    {
     "data": {
      "image/png": "[encoded data removed]",
      "text/plain": [
       "<Figure size 640x480 with 1 Axes>"
      ]
     },
     "metadata": {},
     "output_type": "display_data"
    },
    {
     "data": {
      "image/png": "[encoded data removed]",
      "text/plain": [
       "<Figure size 640x480 with 1 Axes>"
      ]
     },
     "metadata": {},
     "output_type": "display_data"
    },
    {
     "data": {
      "image/png": "[encoded data removed]",
      "text/plain": [
       "<Figure size 640x480 with 1 Axes>"
      ]
     },
     "metadata": {},
     "output_type": "display_data"
    },
    {
     "data": {
      "image/png": "[encoded data removed]",
      "text/plain": [
       "<Figure size 640x480 with 1 Axes>"
      ]
     },
     "metadata": {},
     "output_type": "display_data"
    },
    {
     "data": {
      "image/png": "[encoded data removed]",
      "text/plain": [
       "<Figure size 640x480 with 1 Axes>"
      ]
     },
     "metadata": {},
     "output_type": "display_data"
    },
    {
     "data": {
      "image/png": "[encoded data removed]",
      "text/plain": [
       "<Figure size 640x480 with 1 Axes>"
      ]
     },
     "metadata": {},
     "output_type": "display_data"
    },
    {
     "data": {
      "image/png": "[encoded data removed]",
      "text/plain": [
       "<Figure size 640x480 with 1 Axes>"
      ]
     },
     "metadata": {},
     "output_type": "display_data"
    },
    {
     "data": {
      "image/png": "[encoded data removed]",
      "text/plain": [
       "<Figure size 640x480 with 1 Axes>"
      ]
     },
     "metadata": {},
     "output_type": "display_data"
    },
    {
     "data": {
      "image/png": "[encoded data removed]",
      "text/plain": [
       "<Figure size 640x480 with 1 Axes>"
      ]
     },
     "metadata": {},
     "output_type": "display_data"
    },
    {
     "data": {
      "image/png": "[encoded data removed]",
      "text/plain": [
       "<Figure size 640x480 with 1 Axes>"
      ]
     },
     "metadata": {},
     "output_type": "display_data"
    },
    {
     "data": {
      "image/png": "[encoded data removed]",
      "text/plain": [
       "<Figure size 640x480 with 1 Axes>"
      ]
     },
     "metadata": {},
     "output_type": "display_data"
    }
   ],
   "source": [
    "for encoding in pred:\n",
    "\tSevenSegment(encoding).display()"
   ]
  }
 ],
 "metadata": {
  "kernelspec": {
   "display_name": "Python 3.9.13 ('as')",
   "language": "python",
   "name": "python3"
  },
  "language_info": {
   "codemirror_mode": {
    "name": "ipython",
    "version": 3
   },
   "file_extension": ".py",
   "mimetype": "text/x-python",
   "name": "python",
   "nbconvert_exporter": "python",
   "pygments_lexer": "ipython3",
   "version": "3.9.15"
  },
  "orig_nbformat": 4,
  "vscode": {
   "interpreter": {
    "hash": "6050835552411db202700dd31d1157379fd9d2f59e0bf949368933b350f4c51b"
   }
  }
 },
 "nbformat": 4,
 "nbformat_minor": 2
}
